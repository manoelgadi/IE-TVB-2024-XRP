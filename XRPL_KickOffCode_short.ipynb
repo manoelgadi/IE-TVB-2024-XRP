{
 "cells": [
  {
   "cell_type": "markdown",
   "metadata": {},
   "source": [
    "\n",
    "\n",
    "All transaction below can be seen in https://testnet.xrpl.org/\n",
    "\n",
    "# Definition of XRP Ledger \n",
    "\n",
    "XRP Ledger was launched in June 2012 and is a public decentralized Blockchain backed by the company Ripple Labs where you can make transactions in a very fast way, in real time and at a very low cost. Something very important is that its energy consumption is also very low which makes it an environmentally friendly5 tool and that is because it uses a Ripple Protocol Consensus Algorithm or RPCA instead of the well-known Proof of Work or of Stake which is different from other systems. The platform can be used for: Payments, Tokenization, NFTs and DeFi (Decentralized Finance) and is an open platform anyone can make use of it. It also has an original cryptocurrency whose name is XRP.\n",
    "\n",
    "# Ripple Protocol Consensus Algorithm\n",
    "Under this protocol XRPL uses a network of independent validators that allow the confirmation of transactions immediately (every 3 or 5 seconds). Unlike the Proof of Work where many miners compete with each other solving mathematical formulas to receive a reward using large amounts of energy, with the Ripple Protocol Consensus Algorithm a group of \"Validators\" receive the information and approve or disapprove it in a fast way. Currently there are more than 120 validators operated by different institutions such as universities, companies and individuals which guarantees the decentralization of the Blockchain.\n",
    "\n",
    "# Definition of Hooks\n",
    "Hooks are code snippets that allow developers using XRPL to customize or add tasks or conditions to activities to be developed directly in XRPL. They can be written in any language and then be compiled with WebAssembly8. Their importance lies in the fact that they allow greater flexibility and customization in the development of activities in XRPL, which guarantees their correct development.\n",
    "A basic example of Hook usage could be to receive a notification each time a transaction has been made from one account to another.\n",
    "\n",
    "# Key Concepts - Escrow and Oracle.\n",
    "\n",
    "## Escrow\n",
    "Escrow is a security mechanism where XRPL amounts can be blocked until the terms of the contract are fulfilled. It enforces the participation of a third party who will hold the assets until the terms of the contract are fulfilled. Escrow can be by Time, Conditions or both:\n",
    "- Time: Funds are released after a period of time has elapsed.\n",
    "- Conditions: Funds are released if certain set conditions are met.\n",
    "- Combination of time and conditions. The use of Escrow gives both parties the assurance that the terms of the contracts will be fulfilled without the funds involved being affected.\n",
    "\n",
    "## Oracle \n",
    "\n",
    "Oracles are third party participants that allow blockchains to access and verify real market information such as currency prices, stock exchange information, whether an action has been performed in the physical world, etc. to complete validate or invalidate Smart contracts. An Oracle does not need to be an entity, it could also be a software. An example could be a device that thanks to the Internet of Things (IoT) can detect if a merchandise has arrived on time to its destination to send money. In this case the Oracle would be the device that, thanks to its sensors, sends information that the conditions of the contract have already been fulfilled in the physical world."
   ]
  },
  {
   "cell_type": "code",
   "execution_count": 1,
   "metadata": {
    "colab": {
     "base_uri": "https://localhost:8080/"
    },
    "id": "nscBrRwwD8A4",
    "outputId": "167b8966-b72e-42a2-f1f0-537807b4ff72"
   },
   "outputs": [
    {
     "name": "stdout",
     "output_type": "stream",
     "text": [
      "Requirement already satisfied: xrpl-py in c:\\users\\manoe\\appdata\\roaming\\python\\python311\\site-packages (2.5.0)\n",
      "Requirement already satisfied: Deprecated<2.0.0,>=1.2.13 in c:\\users\\manoe\\appdata\\roaming\\python\\python311\\site-packages (from xrpl-py) (1.2.14)\n",
      "Requirement already satisfied: ECPy<2.0.0,>=1.2.5 in c:\\users\\manoe\\appdata\\roaming\\python\\python311\\site-packages (from xrpl-py) (1.2.5)\n",
      "Requirement already satisfied: base58<3.0.0,>=2.1.0 in c:\\users\\manoe\\appdata\\roaming\\python\\python311\\site-packages (from xrpl-py) (2.1.1)\n",
      "Collecting httpx<0.25.0,>=0.18.1 (from xrpl-py)\n",
      "  Using cached httpx-0.24.1-py3-none-any.whl.metadata (7.4 kB)\n",
      "Requirement already satisfied: pycryptodome<4.0.0,>=3.16.0 in c:\\users\\manoe\\appdata\\roaming\\python\\python311\\site-packages (from xrpl-py) (3.19.0)\n",
      "Requirement already satisfied: types-Deprecated<2.0.0,>=1.2.9 in c:\\users\\manoe\\appdata\\roaming\\python\\python311\\site-packages (from xrpl-py) (1.2.9.20240311)\n",
      "Requirement already satisfied: typing-extensions<5.0.0,>=4.2.0 in d:\\anaconda3\\lib\\site-packages (from xrpl-py) (4.12.2)\n",
      "Requirement already satisfied: websockets<12.0,>=11.0 in c:\\users\\manoe\\appdata\\roaming\\python\\python311\\site-packages (from xrpl-py) (11.0.3)\n",
      "Requirement already satisfied: wrapt<2,>=1.10 in d:\\anaconda3\\lib\\site-packages (from Deprecated<2.0.0,>=1.2.13->xrpl-py) (1.14.1)\n",
      "Requirement already satisfied: certifi in d:\\anaconda3\\lib\\site-packages (from httpx<0.25.0,>=0.18.1->xrpl-py) (2024.2.2)\n",
      "Collecting httpcore<0.18.0,>=0.15.0 (from httpx<0.25.0,>=0.18.1->xrpl-py)\n",
      "  Using cached httpcore-0.17.3-py3-none-any.whl.metadata (18 kB)\n",
      "Requirement already satisfied: idna in c:\\users\\manoe\\appdata\\roaming\\python\\python311\\site-packages (from httpx<0.25.0,>=0.18.1->xrpl-py) (2.10)\n",
      "Requirement already satisfied: sniffio in d:\\anaconda3\\lib\\site-packages (from httpx<0.25.0,>=0.18.1->xrpl-py) (1.3.0)\n",
      "Requirement already satisfied: h11<0.15,>=0.13 in c:\\users\\manoe\\appdata\\roaming\\python\\python311\\site-packages (from httpcore<0.18.0,>=0.15.0->httpx<0.25.0,>=0.18.1->xrpl-py) (0.14.0)\n",
      "Requirement already satisfied: anyio<5.0,>=3.0 in d:\\anaconda3\\lib\\site-packages (from httpcore<0.18.0,>=0.15.0->httpx<0.25.0,>=0.18.1->xrpl-py) (4.2.0)\n",
      "Using cached httpx-0.24.1-py3-none-any.whl (75 kB)\n",
      "Using cached httpcore-0.17.3-py3-none-any.whl (74 kB)\n",
      "Installing collected packages: httpcore, httpx\n",
      "  Attempting uninstall: httpcore\n",
      "    Found existing installation: httpcore 1.0.5\n",
      "    Uninstalling httpcore-1.0.5:\n",
      "      Successfully uninstalled httpcore-1.0.5\n",
      "  Attempting uninstall: httpx\n",
      "    Found existing installation: httpx 0.27.2\n",
      "    Uninstalling httpx-0.27.2:\n",
      "      Successfully uninstalled httpx-0.27.2\n",
      "Successfully installed httpcore-0.17.3 httpx-0.24.1\n"
     ]
    },
    {
     "name": "stderr",
     "output_type": "stream",
     "text": [
      "ERROR: pip's dependency resolver does not currently take into account all the packages that are installed. This behaviour is the source of the following dependency conflicts.\n",
      "googletrans 3.0.0 requires httpx==0.13.3, but you have httpx 0.24.1 which is incompatible.\n",
      "chromadb 0.5.7 requires httpx>=0.27.0, but you have httpx 0.24.1 which is incompatible.\n",
      "\n",
      "[notice] A new release of pip is available: 24.0 -> 24.2\n",
      "[notice] To update, run: python.exe -m pip install --upgrade pip\n"
     ]
    }
   ],
   "source": [
    "!pip install xrpl-py"
   ]
  },
  {
   "cell_type": "code",
   "execution_count": 2,
   "metadata": {
    "id": "5dmxjKAzI7yK"
   },
   "outputs": [],
   "source": [
    "import nest_asyncio\n",
    "nest_asyncio.apply()"
   ]
  },
  {
   "cell_type": "code",
   "execution_count": 3,
   "metadata": {},
   "outputs": [
    {
     "name": "stdout",
     "output_type": "stream",
     "text": [
      "Attempting to fund address rK9jgvdCA8ArSbS1tGKuiDvMnT5G9Jymq1\n",
      "Faucet fund successful.\n",
      "Attempting to fund address rwcHemoJ2nBBFzPTe6Zz5pQVC7gpDy8Vsr\n",
      "Faucet fund successful.\n"
     ]
    }
   ],
   "source": [
    "from xrpl.account import get_balance\n",
    "from xrpl.clients import JsonRpcClient\n",
    "from xrpl.models import Payment, Tx\n",
    "from xrpl.transaction import submit_and_wait\n",
    "from xrpl.wallet import generate_faucet_wallet\n",
    "\n",
    "# Create a client to connect to the test network\n",
    "client = JsonRpcClient(\"https://s.altnet.rippletest.net:51234\")\n",
    "\n",
    "# Create two wallets to send money between on the test network\n",
    "wallet1 = generate_faucet_wallet(client, debug=True)\n",
    "wallet2 = generate_faucet_wallet(client, debug=True)"
   ]
  },
  {
   "cell_type": "code",
   "execution_count": 4,
   "metadata": {},
   "outputs": [
    {
     "name": "stdout",
     "output_type": "stream",
     "text": [
      "Balances of wallets before Payment tx\n",
      "Wallet 1 address: rK9jgvdCA8ArSbS1tGKuiDvMnT5G9Jymq1\n",
      "Wallet 1 seed: sEd7swgD4xS8yaGhhhe2GikXpiHnvYi\n",
      "Wallet 1 balance: 100000000\n",
      "Wallet 2 address: rwcHemoJ2nBBFzPTe6Zz5pQVC7gpDy8Vsr\n",
      "Wallet 2 seed: sEdSqEj2ziMnZtScELZTf9JLN33t6EH\n",
      "Wallet 2 balance: 100000000\n"
     ]
    }
   ],
   "source": [
    "# Both balances should be zero since nothing has been sent yet\n",
    "print(\"Balances of wallets before Payment tx\")\n",
    "print(\"Wallet 1 address:\",wallet1.address)\n",
    "print(\"Wallet 1 seed:\", wallet1.seed)\n",
    "print(\"Wallet 1 balance:\",get_balance(wallet1.address, client))\n",
    "print(\"Wallet 2 address:\",wallet2.address)\n",
    "print(\"Wallet 2 seed:\", wallet2.seed)\n",
    "print(\"Wallet 2 balance:\",get_balance(wallet2.address, client))\n"
   ]
  },
  {
   "cell_type": "code",
   "execution_count": 5,
   "metadata": {},
   "outputs": [],
   "source": [
    "# Create a Payment transaction from wallet1 to wallet2\n",
    "payment_tx = Payment(\n",
    "    account=wallet1.address,\n",
    "    amount=\"12345\",\n",
    "    destination=wallet2.address,\n",
    ")"
   ]
  },
  {
   "cell_type": "code",
   "execution_count": 6,
   "metadata": {},
   "outputs": [
    {
     "name": "stdout",
     "output_type": "stream",
     "text": [
      "Transaction was submitted\n"
     ]
    }
   ],
   "source": [
    "# Submit the payment to the network and wait to see a response\n",
    "#   Behind the scenes, this fills in fields which can be looked up automatically like the fee.\n",
    "#   It also signs the transaction with wallet1 to prove you own the account you're paying from.\n",
    "payment_response = submit_and_wait(payment_tx, client, wallet1)\n",
    "print(\"Transaction was submitted\")\n"
   ]
  },
  {
   "cell_type": "code",
   "execution_count": 7,
   "metadata": {},
   "outputs": [],
   "source": [
    "# Create a \"Tx\" request to look up the transaction on the ledger\n",
    "tx_response = client.request(Tx(transaction=payment_response.result[\"hash\"]))\n"
   ]
  },
  {
   "cell_type": "code",
   "execution_count": 8,
   "metadata": {},
   "outputs": [
    {
     "name": "stdout",
     "output_type": "stream",
     "text": [
      "Validated: True\n"
     ]
    }
   ],
   "source": [
    "# Check whether the transaction was actually validated on ledger\n",
    "print(\"Validated:\", tx_response.result[\"validated\"])\n"
   ]
  },
  {
   "cell_type": "code",
   "execution_count": 9,
   "metadata": {},
   "outputs": [
    {
     "name": "stdout",
     "output_type": "stream",
     "text": [
      "Balances of wallets after Payment tx:\n",
      "99989990\n",
      "100010000\n"
     ]
    }
   ],
   "source": [
    "# Check balances after 1000 drops (.001 XRP) was sent from wallet1 to wallet2\n",
    "print(\"Balances of wallets after Payment tx:\")\n",
    "print(get_balance(wallet1.address, client))\n",
    "print(get_balance(wallet2.address, client))"
   ]
  },
  {
   "cell_type": "markdown",
   "metadata": {},
   "source": [
    "Further References:\n",
    "* XRPL-Commons - https://github.com/XRPL-Commons/IE-Tech-Venture-Bootcamp-2024?tab=readme-ov-file\n",
    "* XRP.prg - https://xrpl.org/"
   ]
  }
 ],
 "metadata": {
  "colab": {
   "provenance": []
  },
  "kernelspec": {
   "display_name": "Python 3 (ipykernel)",
   "language": "python",
   "name": "python3"
  },
  "language_info": {
   "codemirror_mode": {
    "name": "ipython",
    "version": 3
   },
   "file_extension": ".py",
   "mimetype": "text/x-python",
   "name": "python",
   "nbconvert_exporter": "python",
   "pygments_lexer": "ipython3",
   "version": "3.11.7"
  }
 },
 "nbformat": 4,
 "nbformat_minor": 4
}
